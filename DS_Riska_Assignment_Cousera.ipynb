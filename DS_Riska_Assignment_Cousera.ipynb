{
 "cells": [
  {
   "cell_type": "markdown",
   "id": "8d9c892b",
   "metadata": {},
   "source": [
    "# My Jupyter Notebook on IBM Watson Studio"
   ]
  },
  {
   "cell_type": "markdown",
   "id": "88798262",
   "metadata": {},
   "source": [
    "**Riska Rosalina** <br />\n",
    "Currently occupation as a Technical Consultant and wanting to learn more about Data Science"
   ]
  },
  {
   "cell_type": "markdown",
   "id": "81095a6d",
   "metadata": {},
   "source": [
    "*I am interested in data science because someday i want to be a data scientist*"
   ]
  },
  {
   "cell_type": "markdown",
   "id": "9713a3d0",
   "metadata": {},
   "source": [
    "### In the next line i will code some simple calculation"
   ]
  },
  {
   "cell_type": "code",
   "execution_count": 9,
   "id": "71d46530",
   "metadata": {},
   "outputs": [
    {
     "data": {
      "text/plain": [
       "2.0"
      ]
     },
     "execution_count": 9,
     "metadata": {},
     "output_type": "execute_result"
    }
   ],
   "source": [
    "(10-1*3+5)/6"
   ]
  },
  {
   "cell_type": "markdown",
   "id": "4f5c4b46",
   "metadata": {},
   "source": [
    "Horizontal Rule <br />\n",
    "***"
   ]
  },
  {
   "cell_type": "markdown",
   "id": "ea137124",
   "metadata": {},
   "source": [
    "Bulleted List <br />\n",
    "- Bullet 1 <br />\n",
    "- Bullet 2"
   ]
  },
  {
   "cell_type": "markdown",
   "id": "2f043079",
   "metadata": {},
   "source": [
    "Numbered List <br />\n",
    "1. Number 1 <br />\n",
    "2. Number 2"
   ]
  },
  {
   "cell_type": "markdown",
   "id": "186059c4",
   "metadata": {},
   "source": [
    "This line is `Code` and `Syntax` highlighting"
   ]
  },
  {
   "cell_type": "markdown",
   "id": "edf086e8",
   "metadata": {},
   "source": [
    "Beginner | Intermediate | Advance\n",
    "--- | --- | ---\n",
    "1 | 2 | 3"
   ]
  },
  {
   "cell_type": "markdown",
   "id": "65fa2995",
   "metadata": {},
   "source": [
    "Visit [Coursera] for more info, thanks!<br />\n",
    "\n",
    "[Coursera]: http://www.coursera.org/"
   ]
  },
  {
   "cell_type": "markdown",
   "id": "3adcd6a5",
   "metadata": {},
   "source": [
    "Example <br />\n",
    "> This is Blockquotes"
   ]
  },
  {
   "cell_type": "markdown",
   "id": "5a853b47",
   "metadata": {},
   "source": [
    "This line is ~~Strikethrough~~ , just Strikethrough"
   ]
  }
 ],
 "metadata": {
  "kernelspec": {
   "display_name": "Python 3 (ipykernel)",
   "language": "python",
   "name": "python3"
  },
  "language_info": {
   "codemirror_mode": {
    "name": "ipython",
    "version": 3
   },
   "file_extension": ".py",
   "mimetype": "text/x-python",
   "name": "python",
   "nbconvert_exporter": "python",
   "pygments_lexer": "ipython3",
   "version": "3.9.10"
  }
 },
 "nbformat": 4,
 "nbformat_minor": 5
}
